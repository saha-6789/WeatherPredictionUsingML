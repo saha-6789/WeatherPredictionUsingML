{
 "cells": [
  {
   "cell_type": "code",
   "execution_count": 1,
   "id": "c06cd335-fd56-4740-b182-d810d740aa2c",
   "metadata": {},
   "outputs": [
    {
     "data": {
      "text/plain": [
       "'F:\\\\Hustle\\\\weather_prediction_project'"
      ]
     },
     "execution_count": 1,
     "metadata": {},
     "output_type": "execute_result"
    }
   ],
   "source": [
    "pwd"
   ]
  },
  {
   "cell_type": "code",
   "execution_count": 2,
   "id": "573bb1df-8800-41a3-bb44-9ee3d75fd2c5",
   "metadata": {},
   "outputs": [],
   "source": [
    "import pandas as pd\n",
    "from sklearn.model_selection import train_test_split\n",
    "from sklearn.ensemble import RandomForestRegressor, RandomForestClassifier\n",
    "from sklearn.preprocessing import LabelEncoder, OneHotEncoder\n",
    "import pickle  # For saving and loading models\n",
    "\n",
    "# Load the dataset\n",
    "data = pd.read_csv('Simplified_Weather_Data_with_City.csv')\n",
    "\n",
    "# Convert 'datetime' to datetime object and extract year, month, and day\n",
    "data['datetime'] = pd.to_datetime(data['datetime'])\n",
    "data['year'] = data['datetime'].dt.year\n",
    "data['month'] = data['datetime'].dt.month\n",
    "data['day'] = data['datetime'].dt.day\n",
    "\n",
    "# One-hot encode the city names\n",
    "city_encoder = OneHotEncoder()\n",
    "encoded_city = city_encoder.fit_transform(data[['name']])\n",
    "\n",
    "# Label encode the weather conditions\n",
    "label_encoder = LabelEncoder()\n",
    "data['conditions_encoded'] = label_encoder.fit_transform(data['conditions'])\n",
    "\n",
    "# Prepare the feature matrix and target vectors\n",
    "X = pd.concat([data[['year', 'month', 'day']], pd.DataFrame(encoded_city.toarray())], axis=1)\n",
    "y_temp = data['temp']\n",
    "y_humidity = data['humidity']\n",
    "y_conditions = data['conditions_encoded']\n"
   ]
  },
  {
   "cell_type": "code",
   "execution_count": 6,
   "id": "ee63acdc-96bb-4e5a-9e48-be241da2009d",
   "metadata": {},
   "outputs": [],
   "source": [
    "# Split the dataset\n",
    "X_train, X_test, y_train_temp, y_test_temp = train_test_split(X, y_temp, test_size=0.2, random_state=42)\n",
    "X_train, X_test, y_train_humidity, y_test_humidity = train_test_split(X, y_humidity, test_size=0.2, random_state=42)\n",
    "X_train, X_test, y_train_conditions, y_test_conditions = train_test_split(X, y_conditions, test_size=0.2, random_state=42)\n",
    "\n",
    "# Initialize the models\n",
    "model_temp = RandomForestRegressor(n_estimators=100, random_state=42)\n",
    "model_humidity = RandomForestRegressor(n_estimators=100, random_state=42)\n",
    "model_conditions = RandomForestClassifier(n_estimators=100, random_state=42)\n",
    "\n",
    "X_train.columns = X_train.columns.astype(str)\n",
    "X_test.columns = X_test.columns.astype(str)\n",
    "\n",
    "# Train the models\n",
    "model_temp.fit(X_train, y_train_temp)\n",
    "model_humidity.fit(X_train, y_train_humidity)\n",
    "model_conditions.fit(X_train, y_train_conditions)\n",
    "\n",
    "# Save the models and encoders\n",
    "with open('model_temp.sav', 'wb') as file:\n",
    "    pickle.dump(model_temp, file)\n",
    "with open('model_humidity.sav', 'wb') as file:\n",
    "    pickle.dump(model_humidity, file)\n",
    "with open('model_conditions.sav', 'wb') as file:\n",
    "    pickle.dump(model_conditions, file)\n",
    "with open('city_encoder.sav', 'wb') as file:\n",
    "    pickle.dump(city_encoder, file)\n",
    "with open('label_encoder.sav', 'wb') as file:\n",
    "    pickle.dump(label_encoder, file)\n"
   ]
  },
  {
   "cell_type": "code",
   "execution_count": null,
   "id": "cb43e580-9b87-4f77-8804-d753b40d5df4",
   "metadata": {},
   "outputs": [],
   "source": [
    "def load_model(filename):\n",
    "    with open(filename, 'rb') as file:\n",
    "        return pickle.load(file)"
   ]
  },
  {
   "cell_type": "code",
   "execution_count": 28,
   "id": "6ccd5b0f-8e9b-4cbb-8ddb-b4d7591e1a29",
   "metadata": {},
   "outputs": [
    {
     "name": "stderr",
     "output_type": "stream",
     "text": [
      "C:\\Users\\Admin\\anaconda3\\lib\\site-packages\\sklearn\\base.py:420: UserWarning: X does not have valid feature names, but OneHotEncoder was fitted with feature names\n",
      "  warnings.warn(\n"
     ]
    },
    {
     "data": {
      "text/plain": [
       "(25.311000000000003, 75.168, 'Cloudy')"
      ]
     },
     "execution_count": 28,
     "metadata": {},
     "output_type": "execute_result"
    }
   ],
   "source": [
    "def predict_weather(city, year, month, day):\n",
    "    # Load models and encoders\n",
    "    model_temp = load_model('model_temp.sav')\n",
    "    model_humidity = load_model('model_humidity.sav')\n",
    "    model_conditions = load_model('model_conditions.sav')\n",
    "    city_encoder = load_model('city_encoder.sav')\n",
    "    label_encoder = load_model('label_encoder.sav')\n",
    "\n",
    "    # Encode city\n",
    "    city_encoded = city_encoder.transform([[city]]).toarray()\n",
    "\n",
    "    # Manually create city feature names based on the number of unique cities\n",
    "    num_cities = city_encoded.shape[1]\n",
    "    city_feature_names = [f'{i}' for i in range(num_cities)]\n",
    "\n",
    "    # Create the features DataFrame for prediction\n",
    "    feature_values = [year, month, day] + city_encoded[0].tolist()\n",
    "    feature_names = ['year', 'month', 'day'] + city_feature_names\n",
    "    features = pd.DataFrame([feature_values], columns=feature_names)\n",
    "\n",
    "    # Make predictions\n",
    "    predicted_temp = model_temp.predict(features)[0]\n",
    "    predicted_humidity = model_humidity.predict(features)[0]\n",
    "    predicted_condition_encoded = model_conditions.predict(features)[0]\n",
    "    predicted_condition = label_encoder.inverse_transform([predicted_condition_encoded])[0]\n",
    "\n",
    "    return predicted_temp, predicted_humidity, predicted_condition"
   ]
  },
  {
   "cell_type": "code",
   "execution_count": null,
   "id": "505b1cbe-f776-4c49-bc64-aebf007e6cf5",
   "metadata": {},
   "outputs": [],
   "source": [
    "# Example Prediction\n",
    "predict_weather('bangalore', 2025, 7, 1)\n",
    "\n",
    "\n",
    "\n",
    "def main():\n",
    "    print(\"Select the City\\n\")\n",
    "    print(\"1 - bangalore\\n 2 - Ballari\\n 3 - Hubli\\n 4 - Delhi\\n 5 - Mysore\")\n",
    "    city = input()\n",
    "    "
   ]
  },
  {
   "cell_type": "code",
   "execution_count": 29,
   "id": "d4622717-8232-431d-8488-fa5b0b17b096",
   "metadata": {},
   "outputs": [
    {
     "name": "stdout",
     "output_type": "stream",
     "text": [
      "^C\n"
     ]
    }
   ],
   "source": [
    "!python app.py"
   ]
  },
  {
   "cell_type": "code",
   "execution_count": null,
   "id": "d8338f55-ab47-420d-908e-4bf3ba5586bc",
   "metadata": {},
   "outputs": [],
   "source": []
  }
 ],
 "metadata": {
  "kernelspec": {
   "display_name": "Python 3 (ipykernel)",
   "language": "python",
   "name": "python3"
  },
  "language_info": {
   "codemirror_mode": {
    "name": "ipython",
    "version": 3
   },
   "file_extension": ".py",
   "mimetype": "text/x-python",
   "name": "python",
   "nbconvert_exporter": "python",
   "pygments_lexer": "ipython3",
   "version": "3.10.9"
  }
 },
 "nbformat": 4,
 "nbformat_minor": 5
}
